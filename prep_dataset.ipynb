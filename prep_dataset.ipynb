{
 "cells": [
  {
   "cell_type": "code",
   "execution_count": 1,
   "metadata": {},
   "outputs": [],
   "source": [
    "import os\n",
    "import sys\n",
    "\n",
    "sys.path.append(os.path.join(os.getcwd(), \"data\"))\n",
    "from data.loader import DataLoader, get_paths\n",
    "\n",
    "from pathlib import Path\n",
    "\n",
    "from datasets import Dataset, DatasetDict, DatasetInfo, Features, Array3D, Array4D, Sequence, Value"
   ]
  },
  {
   "cell_type": "code",
   "execution_count": 2,
   "metadata": {},
   "outputs": [],
   "source": [
    "primary_directory = Path().resolve()\n",
    "provided_data_dir = primary_directory / \"data\"\n",
    "training_data_dir = provided_data_dir / \"train-pats\"\n",
    "validation_data_dir = provided_data_dir / \"validation-pats\"\n",
    "testing_data_dir = provided_data_dir / \"test-pats\""
   ]
  },
  {
   "cell_type": "code",
   "execution_count": 17,
   "metadata": {},
   "outputs": [],
   "source": [
    "def gen(path: Path):\n",
    "    # obtain the paths to the plan files\n",
    "    plan_paths = get_paths(path)\n",
    "    dataloader = DataLoader(plan_paths)\n",
    "\n",
    "    # ensure that the dataloader is in the correct mode\n",
    "    dataloader.set_mode(\"training_model\")\n",
    "    for batch in dataloader.get_batches():\n",
    "        if len(batch.structure_mask_names) != 10:\n",
    "            print(\"WHAT THE FUCK\")\n",
    "\n",
    "        yield {\n",
    "            \"ct\": batch.ct.squeeze(),\n",
    "            \"dose\": batch.dose.squeeze(),\n",
    "            \"voxel_dimensions\": batch.voxel_dimensions.squeeze(),\n",
    "            \"patient\": batch.patient_list[-1],\n",
    "            \"possible_dose_mask\": batch.possible_dose_mask.squeeze(),\n",
    "            \"structure_masks\": batch.structure_masks.squeeze(),\n",
    "            \"structure_mask_names\": batch.structure_mask_names,\n",
    "        }\n",
    "\n",
    "\n",
    "features = Features(\n",
    "    {\n",
    "        \"ct\": Array3D(shape=(128, 128, 128), dtype=\"float32\"),\n",
    "        \"dose\": Array3D(shape=(128, 128, 128), dtype=\"float32\"),\n",
    "        \"voxel_dimensions\": Sequence(length=3, feature=Value(dtype=\"float32\")),\n",
    "        \"patient\": Value(dtype=\"string\"),\n",
    "        \"possible_dose_mask\": Array3D(shape=(128, 128, 128), dtype=\"float32\"),\n",
    "        \"structure_masks\": Array4D(shape=(128, 128, 128, 10), dtype=\"float32\"),\n",
    "        \"structure_mask_names\": Sequence(length=10, feature=Value(dtype=\"string\")),\n",
    "    }\n",
    ")"
   ]
  },
  {
   "cell_type": "code",
   "execution_count": 18,
   "metadata": {},
   "outputs": [
    {
     "data": {
      "application/vnd.jupyter.widget-view+json": {
       "model_id": "d39c38c8bfcd4433869b6eb694b5fb32",
       "version_major": 2,
       "version_minor": 0
      },
      "text/plain": [
       "Generating train split: 0 examples [00:00, ? examples/s]"
      ]
     },
     "metadata": {},
     "output_type": "display_data"
    },
    {
     "data": {
      "application/vnd.jupyter.widget-view+json": {
       "model_id": "83501c8256d645d7b8c6be717abb8fcc",
       "version_major": 2,
       "version_minor": 0
      },
      "text/plain": [
       "Generating train split: 0 examples [00:00, ? examples/s]"
      ]
     },
     "metadata": {},
     "output_type": "display_data"
    },
    {
     "data": {
      "application/vnd.jupyter.widget-view+json": {
       "model_id": "cf77e91a10464aaaade461850bf05da1",
       "version_major": 2,
       "version_minor": 0
      },
      "text/plain": [
       "Generating train split: 0 examples [00:00, ? examples/s]"
      ]
     },
     "metadata": {},
     "output_type": "display_data"
    }
   ],
   "source": [
    "gen_config = {\n",
    "    \"generator\": gen,\n",
    "    \"features\": features,\n",
    "    # due to the large size of the ct and dose arrays, the default batch size of 1000 is too large\n",
    "    # and causes the arrow writer to crash, so lets write in smaller batches\n",
    "    \"writer_batch_size\": 50,\n",
    "}\n",
    "\n",
    "dataset = DatasetDict(\n",
    "    {\n",
    "        \"train\": Dataset.from_generator(\n",
    "            **gen_config,\n",
    "            gen_kwargs={\"path\": training_data_dir},\n",
    "        ),\n",
    "        \"validation\": Dataset.from_generator(\n",
    "            **gen_config,\n",
    "            gen_kwargs={\"path\": validation_data_dir},\n",
    "        ),\n",
    "        \"test\": Dataset.from_generator(\n",
    "            **gen_config,\n",
    "            gen_kwargs={\"path\": testing_data_dir},\n",
    "        ),\n",
    "    },\n",
    ")"
   ]
  },
  {
   "cell_type": "code",
   "execution_count": null,
   "metadata": {},
   "outputs": [],
   "source": [
    "print(dataset[\"train\"])"
   ]
  },
  {
   "cell_type": "code",
   "execution_count": null,
   "metadata": {},
   "outputs": [],
   "source": [
    "info = DatasetInfo(\n",
    "    description=\"🤗 mirror of the Open Knowledge-Based Planning (OpenKBP) dataset.\",\n",
    "    homepage=\"https://github.com/ababier/open-kbp\",\n",
    "    license=\"MIT\",\n",
    ")"
   ]
  },
  {
   "cell_type": "code",
   "execution_count": null,
   "metadata": {},
   "outputs": [],
   "source": [
    "dataset.push_to_hub(\n",
    "    repo_id=\"oxkitsune/open-kbp\",\n",
    "    commit_message=\"clean up shards\",\n",
    "    num_shards={\n",
    "        \"train\": 20,\n",
    "        \"validation\": 4,\n",
    "        \"test\": 10,\n",
    "    }\n",
    ")"
   ]
  }
 ],
 "metadata": {
  "kernelspec": {
   "display_name": "Python 3 (ipykernel)",
   "language": "python",
   "name": "python3"
  },
  "language_info": {
   "codemirror_mode": {
    "name": "ipython",
    "version": 3
   },
   "file_extension": ".py",
   "mimetype": "text/x-python",
   "name": "python",
   "nbconvert_exporter": "python",
   "pygments_lexer": "ipython3",
   "version": "3.11.8"
  }
 },
 "nbformat": 4,
 "nbformat_minor": 4
}
