{
 "cells": [
  {
   "cell_type": "markdown",
   "id": "3c417b1a-de32-4136-a946-dc761fa2dc26",
   "metadata": {},
   "source": [
    "# Data Visualization"
   ]
  },
  {
   "cell_type": "code",
   "execution_count": 4,
   "id": "947ac520-eccc-4e74-a675-818050d5715e",
   "metadata": {},
   "outputs": [],
   "source": [
    "from src.data import transform_data\n",
    "from src.data.augmentation import Augment\n",
    "\n",
    "import torch\n",
    "import torchio as tio\n",
    "import numpy as np\n",
    "import matplotlib.pyplot as plt\n",
    "from torch.utils.data import DataLoader\n",
    "from datasets import load_dataset, Array4D"
   ]
  },
  {
   "cell_type": "code",
   "execution_count": 8,
   "id": "2b8c4eb7-1617-4c49-8d44-3c0d07d40ce3",
   "metadata": {},
   "outputs": [
    {
     "data": {
      "application/vnd.jupyter.widget-view+json": {
       "model_id": "ea4f39bc529f44a591e7a6f6f45c0435",
       "version_major": 2,
       "version_minor": 0
      },
      "text/plain": [
       "Resolving data files:   0%|          | 0/20 [00:00<?, ?it/s]"
      ]
     },
     "metadata": {},
     "output_type": "display_data"
    },
    {
     "data": {
      "application/vnd.jupyter.widget-view+json": {
       "model_id": "0baec231a8054ecd84a174ce84bcc8d6",
       "version_major": 2,
       "version_minor": 0
      },
      "text/plain": [
       "Resolving data files:   0%|          | 0/20 [00:00<?, ?it/s]"
      ]
     },
     "metadata": {},
     "output_type": "display_data"
    },
    {
     "data": {
      "application/vnd.jupyter.widget-view+json": {
       "model_id": "e3c4044cd83f4eb8a52cf555e10d2256",
       "version_major": 2,
       "version_minor": 0
      },
      "text/plain": [
       "Loading dataset shards:   0%|          | 0/20 [00:00<?, ?it/s]"
      ]
     },
     "metadata": {},
     "output_type": "display_data"
    }
   ],
   "source": [
    "num_proc = 2\n",
    "dataset = load_dataset(\"oxkitsune/open-kbp\", num_proc=num_proc)\n",
    "dataset = (\n",
    "    dataset.with_format(\"numpy\")\n",
    "    .map(\n",
    "        transform_data,\n",
    "        input_columns=[\"ct\", \"structure_masks\"],\n",
    "        # we remove these columns as they are combined into the 'features' column or irrelevant\n",
    "        remove_columns=[\"ct\", \"structure_masks\", \"possible_dose_mask\"],\n",
    "        writer_batch_size=25,\n",
    "        num_proc=num_proc,\n",
    "    )\n",
    "    # cast the features column to a 4D array, to make converting to torch 100x faster\n",
    "    .cast_column(\"features\", Array4D((128, 128, 128, 3), dtype=\"float32\"))\n",
    ")\n",
    "device = torch.device(\"cuda\") if torch.cuda.is_available() else torch.device(\"cpu\")\n",
    "dataset = dataset.with_format(\"torch\", columns=[\"features\", \"dose\"], device=device)"
   ]
  },
  {
   "cell_type": "code",
   "execution_count": 10,
   "id": "c164c556-01fa-4337-8c10-b148028348a4",
   "metadata": {},
   "outputs": [],
   "source": [
    "augment = Augment(42)\n",
    "def transform(samples):\n",
    "    samples = default_collate(samples)\n",
    "    samples[\"features\"] = augment(samples[\"features\"])\n",
    "    samples[\"dose\"] = augment(samples[\"dose\"])\n",
    "\n",
    "    return samples"
   ]
  },
  {
   "cell_type": "code",
   "execution_count": 11,
   "id": "5303272a-c754-41ce-a482-6735f87c5699",
   "metadata": {},
   "outputs": [],
   "source": [
    "train_dataloader_orig = DataLoader(dataset[\"train\"], batch_size=1)\n",
    "train_dataloader_aug = DataLoader(dataset[\"train\"], batch_size=1, collate_fn=transform)\n",
    "batch = next(iter(train_dataloader))\n",
    "batch_aug = next(iter(train_dataloader))"
   ]
  },
  {
   "cell_type": "markdown",
   "id": "42da93c9-b1e1-4e58-aa58-aff2563e2d71",
   "metadata": {},
   "source": [
    "# CT Scan"
   ]
  },
  {
   "cell_type": "code",
   "execution_count": null,
   "id": "412221c5-d48a-4a1f-846d-4e08176b98d8",
   "metadata": {},
   "outputs": [],
   "source": [
    "scan = np.squeeze(batch[\"features\"])[:,:,:,0].cpu()\n",
    "\n",
    "columns = 8\n",
    "rows = 3\n",
    "spacing = 128 // columns\n",
    "\n",
    "fig, axis = plt.subplots(ncols=columns, nrows=rows, figsize=(columns, rows))\n",
    "fig.subplots_adjust(left=0.2, right=0.9, bottom=0.1, top=0.9, wspace=0.1, hspace=0.1)\n",
    "\n",
    "for j in range(columns):\n",
    "    ax = axis[0, j]\n",
    "    ax.imshow(scan[:, :, j*spacing])\n",
    "    ax.set_xticks([])\n",
    "    ax.set_yticks([])\n",
    "\n",
    "for j in range(columns):\n",
    "    ax = axis[1, j]\n",
    "    ax.imshow(scan[:, j*spacing, :])\n",
    "    ax.set_xticks([])\n",
    "    ax.set_yticks([])\n",
    "\n",
    "for j in range(columns):\n",
    "    ax = axis[2, j]\n",
    "    ax.imshow(scan[j*spacing, :, :])\n",
    "    ax.set_xticks([])\n",
    "    ax.set_yticks([])\n",
    "\n",
    "labels = [\"Axial\", \"Sagital\", \"Coronal\"]\n",
    "\n",
    "for i, label in enumerate(labels):\n",
    "    ax = axis[i, 0]\n",
    "    ax.set_ylabel(label, rotation=0, size='large', ha='right', va='center')\n",
    "\n",
    "plt.suptitle(\"CT Scan\")\n",
    "plt.savefig('./figs/ct_scan.png')\n",
    "\n",
    "# Range over all three different axis\n",
    "# OARs, separate and labelled + squished\n",
    "# PTVs, separate and labelled + squished\n",
    "# Augmentations"
   ]
  },
  {
   "cell_type": "markdown",
   "id": "ae8e0e66-7917-4364-a1da-5cc38c80b520",
   "metadata": {},
   "source": [
    "# OARs"
   ]
  },
  {
   "cell_type": "code",
   "execution_count": null,
   "id": "584b4817-52fa-43c7-9a39-4fe1cdeb61c1",
   "metadata": {},
   "outputs": [],
   "source": [
    "scan = np.squeeze(batch[\"features\"])[:,:,:,1].cpu()\n",
    "\n",
    "columns = 8\n",
    "rows = 3\n",
    "spacing = 128 // columns\n",
    "\n",
    "fig, axis = plt.subplots(ncols=columns, nrows=rows, figsize=(columns, rows))\n",
    "fig.subplots_adjust(left=0.2, right=0.9, bottom=0.1, top=0.9, wspace=0.1, hspace=0.1)\n",
    "\n",
    "for j in range(columns):\n",
    "    ax = axis[0, j]\n",
    "    ax.imshow(scan[:, :, j*spacing])\n",
    "    ax.set_xticks([])\n",
    "    ax.set_yticks([])\n",
    "\n",
    "for j in range(columns):\n",
    "    ax = axis[1, j]\n",
    "    ax.imshow(scan[:, j*spacing, :])\n",
    "    ax.set_xticks([])\n",
    "    ax.set_yticks([])\n",
    "\n",
    "for j in range(columns):\n",
    "    ax = axis[2, j]\n",
    "    ax.imshow(scan[j*spacing, :, :])\n",
    "    ax.set_xticks([])\n",
    "    ax.set_yticks([])\n",
    "\n",
    "\n",
    "labels = [\"Axial\", \"Sagital\", \"Coronal\"]\n",
    "\n",
    "for i, label in enumerate(labels):\n",
    "    ax = axis[i, 0]\n",
    "    ax.set_ylabel(label, rotation=0, size='large', ha='right', va='center')\n",
    "\n",
    "plt.suptitle(\"Organs At Risk (OARs)\")\n",
    "plt.savefig('./figs/oars.png')"
   ]
  },
  {
   "cell_type": "markdown",
   "id": "9eecf3d4-df0e-4d6a-9ea9-de0023cfd18f",
   "metadata": {},
   "source": [
    "# PTVs"
   ]
  },
  {
   "cell_type": "code",
   "execution_count": 2,
   "id": "81b26f3b-6efd-48c8-92b7-51bef27e5c66",
   "metadata": {},
   "outputs": [
    {
     "ename": "NameError",
     "evalue": "name 'np' is not defined",
     "output_type": "error",
     "traceback": [
      "\u001b[0;31m---------------------------------------------------------------------------\u001b[0m",
      "\u001b[0;31mNameError\u001b[0m                                 Traceback (most recent call last)",
      "Cell \u001b[0;32mIn[2], line 1\u001b[0m\n\u001b[0;32m----> 1\u001b[0m scan \u001b[38;5;241m=\u001b[39m \u001b[43mnp\u001b[49m\u001b[38;5;241m.\u001b[39msqueeze(batch[\u001b[38;5;124m\"\u001b[39m\u001b[38;5;124mfeatures\u001b[39m\u001b[38;5;124m\"\u001b[39m])[:,:,:,\u001b[38;5;241m2\u001b[39m]\u001b[38;5;241m.\u001b[39mcpu()\n\u001b[1;32m      3\u001b[0m columns \u001b[38;5;241m=\u001b[39m \u001b[38;5;241m8\u001b[39m\n\u001b[1;32m      4\u001b[0m rows \u001b[38;5;241m=\u001b[39m \u001b[38;5;241m3\u001b[39m\n",
      "\u001b[0;31mNameError\u001b[0m: name 'np' is not defined"
     ]
    }
   ],
   "source": [
    "scan = np.squeeze(batch[\"features\"])[:,:,:,2].cpu()\n",
    "\n",
    "columns = 8\n",
    "rows = 3\n",
    "spacing = 128 // columns\n",
    "\n",
    "fig, axis = plt.subplots(ncols=columns, nrows=rows, figsize=(columns, rows))\n",
    "fig.subplots_adjust(left=0.2, right=0.9, bottom=0.1, top=0.9, wspace=0.1, hspace=0.1)\n",
    "\n",
    "for j in range(columns):\n",
    "    ax = axis[0, j]\n",
    "    ax.imshow(scan[:, :, j*spacing])\n",
    "    ax.set_xticks([])\n",
    "    ax.set_yticks([])\n",
    "\n",
    "for j in range(columns):\n",
    "    ax = axis[1, j]\n",
    "    ax.imshow(scan[:, j*spacing, :])\n",
    "    ax.set_xticks([])\n",
    "    ax.set_yticks([])\n",
    "\n",
    "for j in range(columns):\n",
    "    ax = axis[2, j]\n",
    "    ax.imshow(scan[j*spacing, :, :])\n",
    "    ax.set_xticks([])\n",
    "    ax.set_yticks([])\n",
    "\n",
    "labels = [\"Axial\", \"Sagital\", \"Coronal\"]\n",
    "\n",
    "for i, label in enumerate(labels):\n",
    "    ax = axis[i, 0]\n",
    "    ax.set_ylabel(label, rotation=0, size='large', ha='right', va='center')\n",
    "\n",
    "plt.suptitle(\"Planned Target Volumnes (PTVs)\")\n",
    "plt.savefig('./figs/ptvs.png')"
   ]
  },
  {
   "cell_type": "markdown",
   "id": "cde2c198-2caf-444f-b397-9dc3b6331dec",
   "metadata": {},
   "source": [
    "# Augmentations"
   ]
  },
  {
   "cell_type": "code",
   "execution_count": 3,
   "id": "b26ceff2-451a-4958-badc-643d1fc0a93e",
   "metadata": {},
   "outputs": [
    {
     "ename": "NameError",
     "evalue": "name 'torch' is not defined",
     "output_type": "error",
     "traceback": [
      "\u001b[0;31m---------------------------------------------------------------------------\u001b[0m",
      "\u001b[0;31mNameError\u001b[0m                                 Traceback (most recent call last)",
      "Cell \u001b[0;32mIn[3], line 5\u001b[0m\n\u001b[1;32m      1\u001b[0m \u001b[38;5;28;01mfrom\u001b[39;00m \u001b[38;5;21;01mtorchvision\u001b[39;00m\u001b[38;5;21;01m.\u001b[39;00m\u001b[38;5;21;01mtransforms\u001b[39;00m\u001b[38;5;21;01m.\u001b[39;00m\u001b[38;5;21;01mfunctional\u001b[39;00m \u001b[38;5;28;01mimport\u001b[39;00m rotate\n\u001b[1;32m      3\u001b[0m s \u001b[38;5;241m=\u001b[39m \u001b[38;5;241m64\u001b[39m\n\u001b[0;32m----> 5\u001b[0m \u001b[38;5;28;01mclass\u001b[39;00m \u001b[38;5;21;01mAugment\u001b[39;00m(\u001b[43mtorch\u001b[49m\u001b[38;5;241m.\u001b[39mnn\u001b[38;5;241m.\u001b[39mModule):\n\u001b[1;32m      6\u001b[0m     \u001b[38;5;28;01mdef\u001b[39;00m \u001b[38;5;21m__init__\u001b[39m(\u001b[38;5;28mself\u001b[39m, seed):\n\u001b[1;32m      7\u001b[0m         \u001b[38;5;28msuper\u001b[39m()\u001b[38;5;241m.\u001b[39m\u001b[38;5;21m__init__\u001b[39m()\n",
      "\u001b[0;31mNameError\u001b[0m: name 'torch' is not defined"
     ]
    }
   ],
   "source": [
    "from torchvision.transforms.functional import rotate\n",
    "\n",
    "s = 64\n",
    "\n",
    "class Augment(torch.nn.Module):\n",
    "    def __init__(self, seed):\n",
    "        super().__init__()\n",
    "        torch.manual_seed(seed)\n",
    "\n",
    "    def __call__(self, batch):\n",
    "        augmented_batch = batch.clone()\n",
    "\n",
    "        # Rotations\n",
    "        rotations = [0, 40, 80, 120, 160, 200, 240, 280, 320]\n",
    "        rot = rotations[torch.randint(0, len(rotations), (1,))]\n",
    "\n",
    "        augmented_batch = torch.transpose(augmented_batch, 0, 3)\n",
    "        (_, _, _, batch_size, feature_size) = augmented_batch.shape\n",
    "    \n",
    "        for feat in range(feature_size):\n",
    "            for sample in range(batch_size):\n",
    "                augmented_batch[:, :, :, sample, feat] = rotate(augmented_batch[:, :, :, sample, feat], rot)\n",
    "    \n",
    "        augmented_batch = torch.transpose(augmented_batch, 0, 3)\n",
    "\n",
    "        # Translations\n",
    "        shifts = torch.randint(-20, 21, (2,)).int()\n",
    "        augmented_batch = torch.roll(augmented_batch, shifts=shifts.tolist(), dims=(1, 2))\n",
    "    \n",
    "        # Flip\n",
    "        flips = torch.arange(2, 4)[torch.rand((2,)) > 0.5]\n",
    "        augmented_batch = torch.flip(augmented_batch, dims=flips.tolist())\n",
    "        \n",
    "        return augmented_batch\n",
    "\n",
    "sample = batch[\"features\"][:, :, :, s, 0]\n",
    "plt.imshow(torch.squeeze(sample.cpu()))\n",
    "plt.show()\n",
    "\n",
    "augment = Augment(1)\n",
    "rot_sample = augment(batch[\"features\"])[:, :, :, s, 0]\n",
    "plt.imshow(torch.squeeze(rot_sample.cpu()))\n",
    "plt.show()"
   ]
  },
  {
   "cell_type": "code",
   "execution_count": null,
   "id": "e2371437-ec45-440b-9d1c-d44016b65f6d",
   "metadata": {},
   "outputs": [],
   "source": []
  }
 ],
 "metadata": {
  "kernelspec": {
   "display_name": "Python 3 (ipykernel)",
   "language": "python",
   "name": "python3"
  },
  "language_info": {
   "codemirror_mode": {
    "name": "ipython",
    "version": 3
   },
   "file_extension": ".py",
   "mimetype": "text/x-python",
   "name": "python",
   "nbconvert_exporter": "python",
   "pygments_lexer": "ipython3",
   "version": "3.10.10"
  }
 },
 "nbformat": 4,
 "nbformat_minor": 5
}
